{
  "cells": [
    {
      "cell_type": "markdown",
      "metadata": {
        "id": "view-in-github",
        "colab_type": "text"
      },
      "source": [
        "<a href=\"https://colab.research.google.com/github/annabellarinaldi/akaripuzzle/blob/main/8_Puzzle_Solver.ipynb\" target=\"_parent\"><img src=\"https://colab.research.google.com/assets/colab-badge.svg\" alt=\"Open In Colab\"/></a>"
      ]
    },
    {
      "cell_type": "code",
      "execution_count": null,
      "metadata": {
        "id": "glJI9KsXz_4L"
      },
      "outputs": [],
      "source": [
        "from heapq import heappush, heappop\n",
        "from collections import deque\n",
        "import time\n",
        "\n",
        "class Node:\n",
        "  def __init__(self, state, parent, depth):\n",
        "    self.state = state\n",
        "    self.parent = parent\n",
        "    self.depth = depth\n",
        "\n",
        "  def __lt__(self, other):\n",
        "    return self.state < other.state\n",
        "\n",
        "class PriorityQueue:\n",
        "  def __init__(self):\n",
        "    self.list = []\n",
        "\n",
        "  def push(self, value, content):\n",
        "    \"\"\" Add a node into the queue with priority value \"\"\"\n",
        "    # The middle value in the tuple is used as a tiebreaker\n",
        "    # if the priority value is the same for multiple nodes.\n",
        "    heappush(self.list, (value, len(self.list), content))\n",
        "\n",
        "  def pop(self):\n",
        "    \"\"\" Get the node with the smallest priority value \"\"\"\n",
        "    return heappop(self.list)[2]\n",
        "\n",
        "  def __len__(self):\n",
        "    \"\"\" Get the size of the queue. You can call len(queue) \"\"\"\n",
        "    return len(self.list)\n",
        "\n",
        "class Searcher:\n",
        "  def __init__(self):\n",
        "    self.expanded_nodes_count = 0\n",
        "\n",
        "  def search(self, start):\n",
        "    pass\n",
        "\n",
        "class State:\n",
        "  def __init__(self, grid):\n",
        "    self.grid = grid\n",
        "\n",
        "  def __hash__(self):\n",
        "    return hash((self.grid[0][0], self.grid[0][1], self.grid[0][2], \\\n",
        "                 self.grid[1][0], self.grid[1][1], self.grid[1][2], \\\n",
        "                 self.grid[2][0], self.grid[2][1], self.grid[2][2], ))\n",
        "\n",
        "  def __eq__(self, other):\n",
        "    return self.grid == other.grid\n"
      ]
    },
    {
      "cell_type": "code",
      "execution_count": null,
      "metadata": {
        "id": "hGAEB4O3BYdz"
      },
      "outputs": [],
      "source": [
        "def successors(state):\n",
        "    i, j = find_empty_tile(state)\n",
        "    moves = [(1, 0), (0, 1), (-1, 0), (0, -1)]\n",
        "    successors = []\n",
        "    for di, dj in moves:\n",
        "        ni, nj = i + di, j + dj\n",
        "        if 0 <= ni < 3 and 0 <= nj < 3:\n",
        "            new_state = [row[:] for row in state]\n",
        "            new_state[i][j], new_state[ni][nj] = new_state[ni][nj], new_state[i][j]\n",
        "            successors.append(new_state)\n",
        "    return successors\n",
        "\n",
        "GOAL = [[1,2,3],[4,5,6],[7,8,0]]\n",
        "\n",
        "def find_empty_tile(state):\n",
        "  for i in range(3):\n",
        "      for j in range(3):\n",
        "          if state[i][j] == 0:\n",
        "              return i, j\n",
        "  return None\n",
        "\n",
        "def is_goal(state):\n",
        "  return state == GOAL"
      ]
    },
    {
      "cell_type": "code",
      "execution_count": null,
      "metadata": {
        "colab": {
          "base_uri": "https://localhost:8080/"
        },
        "id": "mL46c1w1YTn6",
        "outputId": "fb49056f-1ad8-4008-ee45-725740a281f6"
      },
      "outputs": [
        {
          "output_type": "stream",
          "name": "stdout",
          "text": [
            "[[[1, 3, 6], [4, 8, 5], [7, 0, 2]], [[1, 3, 6], [4, 5, 0], [7, 8, 2]], [[1, 0, 6], [4, 3, 5], [7, 8, 2]], [[1, 3, 6], [0, 4, 5], [7, 8, 2]]]\n",
            "[[[7, 1, 2], [5, 6, 3], [4, 0, 8]], [[7, 1, 2], [0, 6, 3], [5, 4, 8]]]\n"
          ]
        }
      ],
      "source": [
        "# Example test cases\n",
        "print(successors([[1,3,6],[4,0,5],[7,8,2]]))\n",
        "#  [[[1, 3, 6], [4, 8, 5], [7, 0, 2]], \\\n",
        "#  [[1, 3, 6], [4, 5, 0], [7, 8, 2]], \\\n",
        "#  [[1, 0, 6], [4, 3, 5], [7, 8, 2]], \\\n",
        "#  [[1, 3, 6], [0, 4, 5], [7, 8, 2]]]\n",
        "\n",
        "print(successors([[7,1,2],[5,6,3],[0,4,8]]))\n",
        "# [[[7, 1, 2], [5, 6, 3], [4, 0, 8]], [[7, 1, 2], [0, 6, 3], [5, 4, 8]]]"
      ]
    },
    {
      "cell_type": "code",
      "execution_count": null,
      "metadata": {
        "id": "JSP3OtwtBVZn"
      },
      "outputs": [],
      "source": [
        "from collections import deque\n",
        "\n",
        "class BfsSearcher(Searcher):\n",
        "    def search(self, start):\n",
        "        queue = deque([Node(start, None, 0)])\n",
        "        visited = set([State(start)])\n",
        "        while queue:\n",
        "            node = queue.popleft()\n",
        "            state_hash = State(node.state)\n",
        "\n",
        "            if node.state == GOAL:\n",
        "                return node\n",
        "\n",
        "            self.expanded_nodes_count += 1\n",
        "\n",
        "            for s in successors(node.state):\n",
        "                new_state_hash = State(s)\n",
        "                if new_state_hash not in visited:\n",
        "                    visited.add(new_state_hash)\n",
        "                    queue.append(Node(s, node, node.depth + 1))\n",
        "\n",
        "        return None"
      ]
    },
    {
      "cell_type": "code",
      "execution_count": null,
      "metadata": {
        "colab": {
          "base_uri": "https://localhost:8080/"
        },
        "id": "xET6ldzBdbfN",
        "outputId": "01c617de-7fd1-4f9f-e050-0d5c0c384e80"
      },
      "outputs": [
        {
          "output_type": "stream",
          "name": "stdout",
          "text": [
            "=== State 0 ===\n",
            "[[1, 2, 3], [4, 5, 6], [7, 8, 0]]\n",
            "Elapsed time for BFS: 0.01513218879699707\n",
            "Expanded nodes for BFS: 243\n",
            "Depth for BFS: 8\n",
            "=== State 1 ===\n",
            "[[1, 2, 3], [4, 5, 6], [7, 8, 0]]\n",
            "Elapsed time for BFS: 0.4574923515319824\n",
            "Expanded nodes for BFS: 7572\n",
            "Depth for BFS: 16\n"
          ]
        }
      ],
      "source": [
        "import time\n",
        "\n",
        "start_easy = [[1,2,3],[5,0,7],[4,8,6]]\n",
        "\n",
        "start_hard = [[1,2,3],[4,7,6],[0,8,5]]\n",
        "\n",
        "\n",
        "for i, state in enumerate([start_easy, start_hard]):\n",
        "  print(f\"=== State {i} ===\")\n",
        "  t = time.time()\n",
        "  searcher = BfsSearcher()\n",
        "  sol = searcher.search(state)\n",
        "  elapsed_time = time.time() - t\n",
        "  print(sol.state)\n",
        "  print(\"Elapsed time for BFS:\", elapsed_time)\n",
        "  print(\"Expanded nodes for BFS:\", searcher.expanded_nodes_count)\n",
        "  print(\"Depth for BFS:\", sol.depth)\n"
      ]
    },
    {
      "cell_type": "code",
      "execution_count": null,
      "metadata": {
        "id": "CuRo2AWZFWkX"
      },
      "outputs": [],
      "source": [
        "class IdsSearcher(Searcher):\n",
        "  def __init__(self, max_depth=100):\n",
        "    super().__init__()\n",
        "    self.max_depth = max_depth\n",
        "  def depth_limited_search(self, node, depth_limit, visited):\n",
        "        if node.state == GOAL:\n",
        "            return node\n",
        "        if node.depth >= depth_limit:\n",
        "            return None\n",
        "        state_hash = State(node.state)\n",
        "        if state_hash not in visited or visited[state_hash] > node.depth:\n",
        "            visited[state_hash] = node.depth\n",
        "            self.expanded_nodes_count += 1\n",
        "            for s in successors(node.state):\n",
        "              child_node = Node(s, node, node.depth + 1)\n",
        "              result = self.depth_limited_search(child_node, depth_limit, visited)\n",
        "              if result:\n",
        "                  return result\n",
        "        return None\n",
        "  def search(self, start):\n",
        "    depth = 0\n",
        "    while depth < self.max_depth:\n",
        "        visited = {}\n",
        "        start_node = Node(start, None, 0)\n",
        "        result = self.depth_limited_search(start_node, depth, visited)\n",
        "        if result:\n",
        "            return result\n",
        "        depth += 1\n",
        "    return None"
      ]
    },
    {
      "cell_type": "markdown",
      "metadata": {
        "id": "cDquHIQ6r8jD"
      },
      "source": []
    },
    {
      "cell_type": "code",
      "execution_count": null,
      "metadata": {
        "colab": {
          "base_uri": "https://localhost:8080/"
        },
        "id": "GbbD3QddE4Vz",
        "outputId": "933ab981-3a4b-4712-e91e-2b2c4ada06bd"
      },
      "outputs": [
        {
          "output_type": "stream",
          "name": "stdout",
          "text": [
            "=== State 0 ===\n",
            "[[1, 2, 3], [4, 5, 6], [7, 8, 0]]\n",
            "Elapsed time for IDS: 0.006863117218017578\n",
            "Expanded nodes for IDS: 344\n",
            "Depth for IDS: 8\n",
            "=== State 1 ===\n",
            "[[1, 2, 3], [4, 5, 6], [7, 8, 0]]\n",
            "Elapsed time for IDS: 0.37500929832458496\n",
            "Expanded nodes for IDS: 14559\n",
            "Depth for IDS: 16\n"
          ]
        }
      ],
      "source": [
        "# Run the algorithm\n",
        "start_easy = [[1, 2, 3], [5, 0, 7], [4, 8, 6]]\n",
        "start_hard = [[1, 2, 3], [4, 7, 6], [0, 8, 5]]\n",
        "\n",
        "for i, state in enumerate([start_easy, start_hard]):\n",
        "  print(f\"=== State {i} ===\")\n",
        "  t = time.time()\n",
        "  searcher = IdsSearcher()\n",
        "  sol = searcher.search(state)\n",
        "  elapsed_time = time.time() - t\n",
        "  print(sol.state)\n",
        "  print(\"Elapsed time for IDS:\", elapsed_time)\n",
        "  print(\"Expanded nodes for IDS:\", searcher.expanded_nodes_count)\n",
        "  print(\"Depth for IDS:\", sol.depth)"
      ]
    },
    {
      "cell_type": "code",
      "execution_count": null,
      "metadata": {
        "id": "Tng_eQxoHfBV"
      },
      "outputs": [],
      "source": [
        "def manhattan_heuristic(node):\n",
        "    state = node.state if hasattr(node, 'state') else node\n",
        "    distance = 0\n",
        "    for i in range(3):\n",
        "        for j in range(3):\n",
        "            value = state[i][j]\n",
        "            if value != 0:\n",
        "                goal_x, goal_y = (value - 1) // 3, (value - 1) % 3\n",
        "                distance += abs(i - goal_x) + abs(j - goal_y)\n",
        "    return distance\n",
        "\n",
        "def misplaced_tiles_heuristic(node):\n",
        "    state = node.state if hasattr(node, 'state') else node\n",
        "    return sum(1 for i in range(3) for j in range(3) if state[i][j] != 0 and state[i][j] != GOAL[i][j])\n",
        "\n",
        "class AStarSearcher(Searcher):\n",
        "    def search(self, start, heuristic):\n",
        "        pq = PriorityQueue()\n",
        "        start_node = Node(start, None, 0)\n",
        "        pq.push(heuristic(start_node), start_node)\n",
        "        visited = {}\n",
        "\n",
        "        while pq:\n",
        "            node = pq.pop()\n",
        "\n",
        "            # Correct goal check\n",
        "            if node.state == GOAL:\n",
        "                return node\n",
        "\n",
        "            state_hash = State(node.state)\n",
        "            g_cost = node.depth\n",
        "            if state_hash in visited and visited[state_hash] <= node.depth:\n",
        "                continue\n",
        "\n",
        "            visited[state_hash] = g_cost\n",
        "            self.expanded_nodes_count += 1\n",
        "\n",
        "            for s in successors(node.state):\n",
        "                new_node = Node(s, node, node.depth + 1)\n",
        "                f_cost = new_node.depth + heuristic(new_node)\n",
        "                pq.push(f_cost, new_node)\n",
        "\n",
        "        return None\n"
      ]
    },
    {
      "cell_type": "code",
      "execution_count": null,
      "metadata": {
        "colab": {
          "base_uri": "https://localhost:8080/"
        },
        "id": "6H6hUreMqKgI",
        "outputId": "72190d40-f87e-42a1-9145-a64548393db7"
      },
      "outputs": [
        {
          "output_type": "stream",
          "name": "stdout",
          "text": [
            "10\n",
            "3\n"
          ]
        }
      ],
      "source": [
        "# Example test cases\n",
        "print(manhattan_heuristic([[7,1,2],[5,6,3],[0,4,8]]))\n",
        "# should be 10\n",
        "\n",
        "print(misplaced_tiles_heuristic([[1,2,3],[0,5,6],[4,7,8]]))\n",
        "# should be 3"
      ]
    },
    {
      "cell_type": "code",
      "execution_count": null,
      "metadata": {
        "colab": {
          "base_uri": "https://localhost:8080/"
        },
        "id": "zgdxgekie45N",
        "outputId": "d8a1ba17-279b-4dcd-8da2-64a771c232a8"
      },
      "outputs": [
        {
          "output_type": "stream",
          "name": "stdout",
          "text": [
            "=== State 0 ===\n",
            "Elapsed time for A star with Manhattan: 0.0005214214324951172\n",
            "Expanded nodes for A star with Manhattan: 15\n",
            "[[1, 2, 3], [4, 5, 6], [7, 8, 0]]\n",
            "Elapsed time for A star with Misplaced Tiles: 0.0006506443023681641\n",
            "Expanded nodes for A star with Misplaced Tiles: 26\n",
            "[[1, 2, 3], [4, 5, 6], [7, 8, 0]]\n",
            "=== State 1 ===\n",
            "Elapsed time for A star with Manhattan: 0.028873682022094727\n",
            "Expanded nodes for A star with Manhattan: 259\n",
            "[[1, 2, 3], [4, 5, 6], [7, 8, 0]]\n",
            "Elapsed time for A star with Misplaced Tiles: 0.0661165714263916\n",
            "Expanded nodes for A star with Misplaced Tiles: 663\n",
            "[[1, 2, 3], [4, 5, 6], [7, 8, 0]]\n"
          ]
        }
      ],
      "source": [
        "for i, state in enumerate([start_easy, start_hard]):\n",
        "  print(f\"=== State {i} ===\")\n",
        "\n",
        "  t = time.time()\n",
        "  searcher = AStarSearcher()\n",
        "  sol = searcher.search(state, manhattan_heuristic)\n",
        "  elapsed_time = time.time() - t\n",
        "  print(\"Elapsed time for A star with Manhattan:\", elapsed_time)\n",
        "  print(\"Expanded nodes for A star with Manhattan:\", searcher.expanded_nodes_count)\n",
        "  print(sol.state)\n",
        "\n",
        "  t = time.time()\n",
        "  searcher = AStarSearcher()\n",
        "  sol = searcher.search(state, misplaced_tiles_heuristic)\n",
        "  elapsed_time = time.time() - t\n",
        "  print(\"Elapsed time for A star with Misplaced Tiles:\", elapsed_time)\n",
        "  print(\"Expanded nodes for A star with Misplaced Tiles:\", searcher.expanded_nodes_count)\n",
        "  print(sol.state)"
      ]
    }
  ],
  "metadata": {
    "colab": {
      "provenance": [],
      "include_colab_link": true
    },
    "kernelspec": {
      "display_name": "Python 3",
      "name": "python3"
    },
    "language_info": {
      "name": "python"
    }
  },
  "nbformat": 4,
  "nbformat_minor": 0
}